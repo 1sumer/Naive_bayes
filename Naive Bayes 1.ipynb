{
 "cells": [
  {
   "cell_type": "markdown",
   "id": "a23ac836",
   "metadata": {},
   "source": [
    "# Naive Bayes"
   ]
  },
  {
   "cell_type": "code",
   "execution_count": 1,
   "id": "f522e5e1",
   "metadata": {},
   "outputs": [
    {
     "name": "stderr",
     "output_type": "stream",
     "text": [
      "C:\\Users\\syed mubarak pasha\\AppData\\Local\\Temp\\ipykernel_16304\\2741527179.py:38: FutureWarning: The frame.append method is deprecated and will be removed from pandas in a future version. Use pandas.concat instead.\n",
      "  data = data.append(dataFrameFromDirectory(\"C:\\\\Users\\\\syed mubarak pasha\\\\OneDrive\\\\Documents\\\\Python\\\\Assignment\\\\Naive Bayes\\\\spam\", 'spam'))\n",
      "C:\\Users\\syed mubarak pasha\\AppData\\Local\\Temp\\ipykernel_16304\\2741527179.py:39: FutureWarning: The frame.append method is deprecated and will be removed from pandas in a future version. Use pandas.concat instead.\n",
      "  data = data.append(dataFrameFromDirectory(\"C:\\\\Users\\\\syed mubarak pasha\\\\OneDrive\\\\Documents\\\\Python\\\\Assignment\\\\Naive Bayes\\\\ham\", 'ham'))\n"
     ]
    }
   ],
   "source": [
    "import os\n",
    "import io\n",
    "import numpy\n",
    "from pandas import DataFrame\n",
    "from sklearn.feature_extraction.text import CountVectorizer\n",
    "from sklearn.naive_bayes import MultinomialNB\n",
    "\n",
    "\n",
    "def readFiles(path):\n",
    "    for root, dirnames, filenames in os.walk(path):\n",
    "        for filename in filenames:\n",
    "            path = os.path.join(root, filename)\n",
    "\n",
    "            inBody = False\n",
    "            lines = []\n",
    "            f = io.open(path, 'r', encoding='latin1')\n",
    "            for line in f:\n",
    "                if inBody:\n",
    "                    lines.append(line)\n",
    "                elif line == '\\n':\n",
    "                    inBody = True\n",
    "            f.close()\n",
    "            message = '\\n'.join(lines)\n",
    "            yield path, message\n",
    "\n",
    "\n",
    "def dataFrameFromDirectory(path, classification):\n",
    "    rows = []\n",
    "    index = []\n",
    "    for filename, message in readFiles(path):\n",
    "        rows.append({'message': message, 'class': classification})\n",
    "        index.append(filename)\n",
    "\n",
    "    return DataFrame(rows, index=index)\n",
    "\n",
    "data = DataFrame({'message': [], 'class': []})\n",
    "\n",
    "data = data.append(dataFrameFromDirectory(\"C:\\\\Users\\\\syed mubarak pasha\\\\OneDrive\\\\Documents\\\\Python\\\\Assignment\\\\Naive Bayes\\\\spam\", 'spam'))\n",
    "data = data.append(dataFrameFromDirectory(\"C:\\\\Users\\\\syed mubarak pasha\\\\OneDrive\\\\Documents\\\\Python\\\\Assignment\\\\Naive Bayes\\\\ham\", 'ham'))\n"
   ]
  },
  {
   "cell_type": "code",
   "execution_count": 2,
   "id": "f26d5944",
   "metadata": {},
   "outputs": [
    {
     "name": "stdout",
     "output_type": "stream",
     "text": [
      "<class 'pandas.core.frame.DataFrame'>\n",
      "Index: 2983 entries, C:\\Users\\syed mubarak pasha\\OneDrive\\Documents\\Python\\Assignment\\Naive Bayes\\spam\\00001.7848dde101aa985090474a91ec93fcf0 to C:\\Users\\syed mubarak pasha\\OneDrive\\Documents\\Python\\Assignment\\Naive Bayes\\ham\\02500.05b3496ce7bca306bed0805425ec8621\n",
      "Data columns (total 2 columns):\n",
      " #   Column   Non-Null Count  Dtype \n",
      "---  ------   --------------  ----- \n",
      " 0   message  2983 non-null   object\n",
      " 1   class    2983 non-null   object\n",
      "dtypes: object(2)\n",
      "memory usage: 69.9+ KB\n"
     ]
    }
   ],
   "source": [
    "data.info()"
   ]
  },
  {
   "cell_type": "code",
   "execution_count": 3,
   "id": "678229e8",
   "metadata": {
    "scrolled": true
   },
   "outputs": [
    {
     "data": {
      "text/html": [
       "<div>\n",
       "<style scoped>\n",
       "    .dataframe tbody tr th:only-of-type {\n",
       "        vertical-align: middle;\n",
       "    }\n",
       "\n",
       "    .dataframe tbody tr th {\n",
       "        vertical-align: top;\n",
       "    }\n",
       "\n",
       "    .dataframe thead th {\n",
       "        text-align: right;\n",
       "    }\n",
       "</style>\n",
       "<table border=\"1\" class=\"dataframe\">\n",
       "  <thead>\n",
       "    <tr style=\"text-align: right;\">\n",
       "      <th></th>\n",
       "      <th>message</th>\n",
       "      <th>class</th>\n",
       "    </tr>\n",
       "  </thead>\n",
       "  <tbody>\n",
       "    <tr>\n",
       "      <th>C:\\Users\\syed mubarak pasha\\OneDrive\\Documents\\Python\\Assignment\\Naive Bayes\\spam\\00001.7848dde101aa985090474a91ec93fcf0</th>\n",
       "      <td>&lt;!DOCTYPE HTML PUBLIC \"-//W3C//DTD HTML 4.0 Tr...</td>\n",
       "      <td>spam</td>\n",
       "    </tr>\n",
       "    <tr>\n",
       "      <th>C:\\Users\\syed mubarak pasha\\OneDrive\\Documents\\Python\\Assignment\\Naive Bayes\\spam\\00002.d94f1b97e48ed3b553b3508d116e6a09</th>\n",
       "      <td>1) Fight The Risk of Cancer!\\n\\nhttp://www.adc...</td>\n",
       "      <td>spam</td>\n",
       "    </tr>\n",
       "    <tr>\n",
       "      <th>C:\\Users\\syed mubarak pasha\\OneDrive\\Documents\\Python\\Assignment\\Naive Bayes\\spam\\00003.2ee33bc6eacdb11f38d052c44819ba6c</th>\n",
       "      <td>1) Fight The Risk of Cancer!\\n\\nhttp://www.adc...</td>\n",
       "      <td>spam</td>\n",
       "    </tr>\n",
       "    <tr>\n",
       "      <th>C:\\Users\\syed mubarak pasha\\OneDrive\\Documents\\Python\\Assignment\\Naive Bayes\\spam\\00004.eac8de8d759b7e74154f142194282724</th>\n",
       "      <td>##############################################...</td>\n",
       "      <td>spam</td>\n",
       "    </tr>\n",
       "    <tr>\n",
       "      <th>C:\\Users\\syed mubarak pasha\\OneDrive\\Documents\\Python\\Assignment\\Naive Bayes\\spam\\00005.57696a39d7d84318ce497886896bf90d</th>\n",
       "      <td>I thought you might like these:\\n\\n1) Slim Dow...</td>\n",
       "      <td>spam</td>\n",
       "    </tr>\n",
       "  </tbody>\n",
       "</table>\n",
       "</div>"
      ],
      "text/plain": [
       "                                                                                              message  \\\n",
       "C:\\Users\\syed mubarak pasha\\OneDrive\\Documents\\...  <!DOCTYPE HTML PUBLIC \"-//W3C//DTD HTML 4.0 Tr...   \n",
       "C:\\Users\\syed mubarak pasha\\OneDrive\\Documents\\...  1) Fight The Risk of Cancer!\\n\\nhttp://www.adc...   \n",
       "C:\\Users\\syed mubarak pasha\\OneDrive\\Documents\\...  1) Fight The Risk of Cancer!\\n\\nhttp://www.adc...   \n",
       "C:\\Users\\syed mubarak pasha\\OneDrive\\Documents\\...  ##############################################...   \n",
       "C:\\Users\\syed mubarak pasha\\OneDrive\\Documents\\...  I thought you might like these:\\n\\n1) Slim Dow...   \n",
       "\n",
       "                                                   class  \n",
       "C:\\Users\\syed mubarak pasha\\OneDrive\\Documents\\...  spam  \n",
       "C:\\Users\\syed mubarak pasha\\OneDrive\\Documents\\...  spam  \n",
       "C:\\Users\\syed mubarak pasha\\OneDrive\\Documents\\...  spam  \n",
       "C:\\Users\\syed mubarak pasha\\OneDrive\\Documents\\...  spam  \n",
       "C:\\Users\\syed mubarak pasha\\OneDrive\\Documents\\...  spam  "
      ]
     },
     "execution_count": 3,
     "metadata": {},
     "output_type": "execute_result"
    }
   ],
   "source": [
    "data.head()"
   ]
  },
  {
   "cell_type": "code",
   "execution_count": 4,
   "id": "675a99cf",
   "metadata": {},
   "outputs": [
    {
     "data": {
      "text/html": [
       "<div>\n",
       "<style scoped>\n",
       "    .dataframe tbody tr th:only-of-type {\n",
       "        vertical-align: middle;\n",
       "    }\n",
       "\n",
       "    .dataframe tbody tr th {\n",
       "        vertical-align: top;\n",
       "    }\n",
       "\n",
       "    .dataframe thead th {\n",
       "        text-align: right;\n",
       "    }\n",
       "</style>\n",
       "<table border=\"1\" class=\"dataframe\">\n",
       "  <thead>\n",
       "    <tr style=\"text-align: right;\">\n",
       "      <th></th>\n",
       "      <th>message</th>\n",
       "      <th>class</th>\n",
       "    </tr>\n",
       "  </thead>\n",
       "  <tbody>\n",
       "    <tr>\n",
       "      <th>C:\\Users\\syed mubarak pasha\\OneDrive\\Documents\\Python\\Assignment\\Naive Bayes\\spam\\00001.7848dde101aa985090474a91ec93fcf0</th>\n",
       "      <td>&lt;!DOCTYPE HTML PUBLIC \"-//W3C//DTD HTML 4.0 Tr...</td>\n",
       "      <td>1</td>\n",
       "    </tr>\n",
       "    <tr>\n",
       "      <th>C:\\Users\\syed mubarak pasha\\OneDrive\\Documents\\Python\\Assignment\\Naive Bayes\\spam\\00002.d94f1b97e48ed3b553b3508d116e6a09</th>\n",
       "      <td>1) Fight The Risk of Cancer!\\n\\nhttp://www.adc...</td>\n",
       "      <td>1</td>\n",
       "    </tr>\n",
       "    <tr>\n",
       "      <th>C:\\Users\\syed mubarak pasha\\OneDrive\\Documents\\Python\\Assignment\\Naive Bayes\\spam\\00003.2ee33bc6eacdb11f38d052c44819ba6c</th>\n",
       "      <td>1) Fight The Risk of Cancer!\\n\\nhttp://www.adc...</td>\n",
       "      <td>1</td>\n",
       "    </tr>\n",
       "    <tr>\n",
       "      <th>C:\\Users\\syed mubarak pasha\\OneDrive\\Documents\\Python\\Assignment\\Naive Bayes\\spam\\00004.eac8de8d759b7e74154f142194282724</th>\n",
       "      <td>##############################################...</td>\n",
       "      <td>1</td>\n",
       "    </tr>\n",
       "    <tr>\n",
       "      <th>C:\\Users\\syed mubarak pasha\\OneDrive\\Documents\\Python\\Assignment\\Naive Bayes\\spam\\00005.57696a39d7d84318ce497886896bf90d</th>\n",
       "      <td>I thought you might like these:\\n\\n1) Slim Dow...</td>\n",
       "      <td>1</td>\n",
       "    </tr>\n",
       "    <tr>\n",
       "      <th>C:\\Users\\syed mubarak pasha\\OneDrive\\Documents\\Python\\Assignment\\Naive Bayes\\spam\\00006.5ab5620d3d7c6c0db76234556a16f6c1</th>\n",
       "      <td>A POWERHOUSE GIFTING PROGRAM You Don't Want To...</td>\n",
       "      <td>1</td>\n",
       "    </tr>\n",
       "    <tr>\n",
       "      <th>C:\\Users\\syed mubarak pasha\\OneDrive\\Documents\\Python\\Assignment\\Naive Bayes\\spam\\00007.d8521faf753ff9ee989122f6816f87d7</th>\n",
       "      <td>Help wanted.  We are a 14 year old fortune 500...</td>\n",
       "      <td>1</td>\n",
       "    </tr>\n",
       "    <tr>\n",
       "      <th>C:\\Users\\syed mubarak pasha\\OneDrive\\Documents\\Python\\Assignment\\Naive Bayes\\spam\\00008.dfd941deb10f5eed78b1594b131c9266</th>\n",
       "      <td>&lt;html&gt;\\n\\n&lt;head&gt;\\n\\n&lt;title&gt;ReliaQuote - Save U...</td>\n",
       "      <td>1</td>\n",
       "    </tr>\n",
       "    <tr>\n",
       "      <th>C:\\Users\\syed mubarak pasha\\OneDrive\\Documents\\Python\\Assignment\\Naive Bayes\\spam\\00009.027bf6e0b0c4ab34db3ce0ea4bf2edab</th>\n",
       "      <td>TIRED OF THE BULL OUT THERE?\\n\\nWant To Stop L...</td>\n",
       "      <td>1</td>\n",
       "    </tr>\n",
       "    <tr>\n",
       "      <th>C:\\Users\\syed mubarak pasha\\OneDrive\\Documents\\Python\\Assignment\\Naive Bayes\\spam\\00010.445affef4c70feec58f9198cfbc22997</th>\n",
       "      <td>Dear ricardo1 ,\\n\\n\\n\\n&lt;html&gt;\\n\\n&lt;body&gt;\\n\\n&lt;ce...</td>\n",
       "      <td>1</td>\n",
       "    </tr>\n",
       "  </tbody>\n",
       "</table>\n",
       "</div>"
      ],
      "text/plain": [
       "                                                                                              message  \\\n",
       "C:\\Users\\syed mubarak pasha\\OneDrive\\Documents\\...  <!DOCTYPE HTML PUBLIC \"-//W3C//DTD HTML 4.0 Tr...   \n",
       "C:\\Users\\syed mubarak pasha\\OneDrive\\Documents\\...  1) Fight The Risk of Cancer!\\n\\nhttp://www.adc...   \n",
       "C:\\Users\\syed mubarak pasha\\OneDrive\\Documents\\...  1) Fight The Risk of Cancer!\\n\\nhttp://www.adc...   \n",
       "C:\\Users\\syed mubarak pasha\\OneDrive\\Documents\\...  ##############################################...   \n",
       "C:\\Users\\syed mubarak pasha\\OneDrive\\Documents\\...  I thought you might like these:\\n\\n1) Slim Dow...   \n",
       "C:\\Users\\syed mubarak pasha\\OneDrive\\Documents\\...  A POWERHOUSE GIFTING PROGRAM You Don't Want To...   \n",
       "C:\\Users\\syed mubarak pasha\\OneDrive\\Documents\\...  Help wanted.  We are a 14 year old fortune 500...   \n",
       "C:\\Users\\syed mubarak pasha\\OneDrive\\Documents\\...  <html>\\n\\n<head>\\n\\n<title>ReliaQuote - Save U...   \n",
       "C:\\Users\\syed mubarak pasha\\OneDrive\\Documents\\...  TIRED OF THE BULL OUT THERE?\\n\\nWant To Stop L...   \n",
       "C:\\Users\\syed mubarak pasha\\OneDrive\\Documents\\...  Dear ricardo1 ,\\n\\n\\n\\n<html>\\n\\n<body>\\n\\n<ce...   \n",
       "\n",
       "                                                    class  \n",
       "C:\\Users\\syed mubarak pasha\\OneDrive\\Documents\\...      1  \n",
       "C:\\Users\\syed mubarak pasha\\OneDrive\\Documents\\...      1  \n",
       "C:\\Users\\syed mubarak pasha\\OneDrive\\Documents\\...      1  \n",
       "C:\\Users\\syed mubarak pasha\\OneDrive\\Documents\\...      1  \n",
       "C:\\Users\\syed mubarak pasha\\OneDrive\\Documents\\...      1  \n",
       "C:\\Users\\syed mubarak pasha\\OneDrive\\Documents\\...      1  \n",
       "C:\\Users\\syed mubarak pasha\\OneDrive\\Documents\\...      1  \n",
       "C:\\Users\\syed mubarak pasha\\OneDrive\\Documents\\...      1  \n",
       "C:\\Users\\syed mubarak pasha\\OneDrive\\Documents\\...      1  \n",
       "C:\\Users\\syed mubarak pasha\\OneDrive\\Documents\\...      1  "
      ]
     },
     "execution_count": 4,
     "metadata": {},
     "output_type": "execute_result"
    }
   ],
   "source": [
    "data = data.replace(['ham','spam'],[0, 1])\n",
    "data.head(10)"
   ]
  },
  {
   "cell_type": "code",
   "execution_count": 5,
   "id": "b9a67f1e",
   "metadata": {
    "scrolled": false
   },
   "outputs": [
    {
     "data": {
      "text/plain": [
       "C:\\Users\\syed mubarak pasha\\OneDrive\\Documents\\Python\\Assignment\\Naive Bayes\\spam\\00001.7848dde101aa985090474a91ec93fcf0    <!DOCTYPE HTML PUBLIC \"-//W3C//DTD HTML 4.0 Tr...\n",
       "C:\\Users\\syed mubarak pasha\\OneDrive\\Documents\\Python\\Assignment\\Naive Bayes\\spam\\00002.d94f1b97e48ed3b553b3508d116e6a09    1) Fight The Risk of Cancer!\\n\\nhttp://www.adc...\n",
       "C:\\Users\\syed mubarak pasha\\OneDrive\\Documents\\Python\\Assignment\\Naive Bayes\\spam\\00003.2ee33bc6eacdb11f38d052c44819ba6c    1) Fight The Risk of Cancer!\\n\\nhttp://www.adc...\n",
       "C:\\Users\\syed mubarak pasha\\OneDrive\\Documents\\Python\\Assignment\\Naive Bayes\\spam\\00004.eac8de8d759b7e74154f142194282724    ##############################################...\n",
       "C:\\Users\\syed mubarak pasha\\OneDrive\\Documents\\Python\\Assignment\\Naive Bayes\\spam\\00005.57696a39d7d84318ce497886896bf90d    I thought you might like these:\\n\\n1) Slim Dow...\n",
       "C:\\Users\\syed mubarak pasha\\OneDrive\\Documents\\Python\\Assignment\\Naive Bayes\\spam\\00006.5ab5620d3d7c6c0db76234556a16f6c1    A POWERHOUSE GIFTING PROGRAM You Don't Want To...\n",
       "C:\\Users\\syed mubarak pasha\\OneDrive\\Documents\\Python\\Assignment\\Naive Bayes\\spam\\00007.d8521faf753ff9ee989122f6816f87d7    Help wanted.  We are a 14 year old fortune 500...\n",
       "C:\\Users\\syed mubarak pasha\\OneDrive\\Documents\\Python\\Assignment\\Naive Bayes\\spam\\00008.dfd941deb10f5eed78b1594b131c9266    <html>\\n\\n<head>\\n\\n<title>ReliaQuote - Save U...\n",
       "C:\\Users\\syed mubarak pasha\\OneDrive\\Documents\\Python\\Assignment\\Naive Bayes\\spam\\00009.027bf6e0b0c4ab34db3ce0ea4bf2edab    TIRED OF THE BULL OUT THERE?\\n\\nWant To Stop L...\n",
       "C:\\Users\\syed mubarak pasha\\OneDrive\\Documents\\Python\\Assignment\\Naive Bayes\\spam\\00010.445affef4c70feec58f9198cfbc22997    Dear ricardo1 ,\\n\\n\\n\\n<html>\\n\\n<body>\\n\\n<ce...\n",
       "Name: message, dtype: object"
      ]
     },
     "execution_count": 5,
     "metadata": {},
     "output_type": "execute_result"
    }
   ],
   "source": [
    "data[\"message\"][:10]"
   ]
  },
  {
   "cell_type": "code",
   "execution_count": 6,
   "id": "d719fd08",
   "metadata": {},
   "outputs": [
    {
     "data": {
      "text/plain": [
       "C:\\Users\\syed mubarak pasha\\OneDrive\\Documents\\Python\\Assignment\\Naive Bayes\\spam\\00011.61816b9ad167657773a427d890d0468e    1\n",
       "C:\\Users\\syed mubarak pasha\\OneDrive\\Documents\\Python\\Assignment\\Naive Bayes\\spam\\00012.381e4f512915109ba1e0853a7a8407b2    1\n",
       "C:\\Users\\syed mubarak pasha\\OneDrive\\Documents\\Python\\Assignment\\Naive Bayes\\spam\\00013.d3f0b591a65f116ea5d9d4ad919f83aa    1\n",
       "C:\\Users\\syed mubarak pasha\\OneDrive\\Documents\\Python\\Assignment\\Naive Bayes\\spam\\00014.7d38c46424f24fc8012ac15a95a2ac14    1\n",
       "C:\\Users\\syed mubarak pasha\\OneDrive\\Documents\\Python\\Assignment\\Naive Bayes\\spam\\00015.048434ab64c86cf890eda1326a5643f5    1\n",
       "                                                                                                                           ..\n",
       "C:\\Users\\syed mubarak pasha\\OneDrive\\Documents\\Python\\Assignment\\Naive Bayes\\ham\\02496.aae0c81581895acfe65323f344340856     0\n",
       "C:\\Users\\syed mubarak pasha\\OneDrive\\Documents\\Python\\Assignment\\Naive Bayes\\ham\\02497.60497db0a06c2132ec2374b2898084d3     0\n",
       "C:\\Users\\syed mubarak pasha\\OneDrive\\Documents\\Python\\Assignment\\Naive Bayes\\ham\\02498.09835f512f156da210efb99fcc523e21     0\n",
       "C:\\Users\\syed mubarak pasha\\OneDrive\\Documents\\Python\\Assignment\\Naive Bayes\\ham\\02499.b4af165650f138b10f9941f6cc5bce3c     0\n",
       "C:\\Users\\syed mubarak pasha\\OneDrive\\Documents\\Python\\Assignment\\Naive Bayes\\ham\\02500.05b3496ce7bca306bed0805425ec8621     0\n",
       "Name: class, Length: 2973, dtype: int64"
      ]
     },
     "execution_count": 6,
     "metadata": {},
     "output_type": "execute_result"
    }
   ],
   "source": [
    "data[\"class\"][10:]"
   ]
  },
  {
   "cell_type": "code",
   "execution_count": 7,
   "id": "1b8cf38c",
   "metadata": {
    "scrolled": true
   },
   "outputs": [
    {
     "data": {
      "text/plain": [
       "0    2483\n",
       "1     500\n",
       "Name: class, dtype: int64"
      ]
     },
     "execution_count": 7,
     "metadata": {},
     "output_type": "execute_result"
    }
   ],
   "source": [
    "data['class'].value_counts()"
   ]
  },
  {
   "cell_type": "code",
   "execution_count": 8,
   "id": "43e05faf",
   "metadata": {},
   "outputs": [],
   "source": [
    "from sklearn.model_selection import train_test_split\n",
    "x_train, x_test, y_train, y_test = train_test_split(data['message'], data['class'], test_size = 0.2, train_size = 0.8, random_state = 1)"
   ]
  },
  {
   "cell_type": "code",
   "execution_count": 9,
   "id": "dbf21127",
   "metadata": {
    "scrolled": true
   },
   "outputs": [
    {
     "name": "stdout",
     "output_type": "stream",
     "text": [
      "test set: (597,)\n"
     ]
    }
   ],
   "source": [
    "print('test set: ' + str(x_test.shape))\n"
   ]
  },
  {
   "cell_type": "code",
   "execution_count": 10,
   "id": "38ed660f",
   "metadata": {
    "scrolled": false
   },
   "outputs": [
    {
     "name": "stdout",
     "output_type": "stream",
     "text": [
      "train set:(2386,)\n"
     ]
    }
   ],
   "source": [
    "print('train set:' + str(x_train.shape))"
   ]
  },
  {
   "cell_type": "markdown",
   "id": "72c32405",
   "metadata": {},
   "source": [
    "So we have 597 messages for testing, and 2386 messages for training!"
   ]
  },
  {
   "cell_type": "code",
   "execution_count": 11,
   "id": "dc0e6cca",
   "metadata": {},
   "outputs": [
    {
     "name": "stdout",
     "output_type": "stream",
     "text": [
      "C:\\Users\\syed mubarak pasha\\OneDrive\\Documents\\Python\\Assignment\\Naive Bayes\\ham\\00301.48ccf486575754a29b80e4eae2c5e227     > From: fork-admin@xent.com [mailto:fork-admin...\n",
      "C:\\Users\\syed mubarak pasha\\OneDrive\\Documents\\Python\\Assignment\\Naive Bayes\\ham\\01302.06ac4ee24e3c434afa330b8c0408649b     Once upon a time, Jon wrote :\\n\\n\\n\\n> Since l...\n",
      "C:\\Users\\syed mubarak pasha\\OneDrive\\Documents\\Python\\Assignment\\Naive Bayes\\ham\\01447.98e4b20ceb192594e992f7db9f8dfc53     On Fri, Sep 06, 2002 at 06:22:52PM +0100, Matt...\n",
      "C:\\Users\\syed mubarak pasha\\OneDrive\\Documents\\Python\\Assignment\\Naive Bayes\\ham\\00128.0e92ec0c8bd8233f7e7873e93df43277     what takes time and money: noting the amounts ...\n",
      "C:\\Users\\syed mubarak pasha\\OneDrive\\Documents\\Python\\Assignment\\Naive Bayes\\spam\\00481.5c95b526e965fa325044123c4ce29c1f     =?GB2312?B?yNW12squ0ru97NbQufq5+rzKtefX08nosb...\n",
      "                                                                                                                                                  ...                        \n",
      "C:\\Users\\syed mubarak pasha\\OneDrive\\Documents\\Python\\Assignment\\Naive Bayes\\ham\\02281.0c788946658a7633490bd31043cc513e     URL: http://www.newsisfree.com/click/-5,855354...\n",
      "C:\\Users\\syed mubarak pasha\\OneDrive\\Documents\\Python\\Assignment\\Naive Bayes\\ham\\00423.cfe8ba459149d893789505dcac7db306     So, like many young children, my daughter Tatu...\n",
      "C:\\Users\\syed mubarak pasha\\OneDrive\\Documents\\Python\\Assignment\\Naive Bayes\\ham\\00614.2487f80400eb954b7c3ab257771ed393     Robert Harley writes:\\n\\n> Chuck Murcko wrote:...\n",
      "C:\\Users\\syed mubarak pasha\\OneDrive\\Documents\\Python\\Assignment\\Naive Bayes\\spam\\00236.2772a068fff32e2f8d7f8a94bd9280cd    Dear User,\\n\\n\\n\\nDo you ever wish you could e...\n",
      "C:\\Users\\syed mubarak pasha\\OneDrive\\Documents\\Python\\Assignment\\Naive Bayes\\ham\\00579.566d8e05220571bff1c2f392a1c7bf41     \\n\\n\\n\\nWhen we were discussing Kuhn, I wrote:...\n",
      "Name: message, Length: 2386, dtype: object\n"
     ]
    }
   ],
   "source": [
    "print(x_train)"
   ]
  },
  {
   "cell_type": "code",
   "execution_count": 12,
   "id": "aecf33ba",
   "metadata": {
    "scrolled": true
   },
   "outputs": [
    {
     "name": "stdout",
     "output_type": "stream",
     "text": [
      "C:\\Users\\syed mubarak pasha\\OneDrive\\Documents\\Python\\Assignment\\Naive Bayes\\ham\\00301.48ccf486575754a29b80e4eae2c5e227     > From: fork-admin@xent.com [mailto:fork-admin...\n",
      "C:\\Users\\syed mubarak pasha\\OneDrive\\Documents\\Python\\Assignment\\Naive Bayes\\ham\\01302.06ac4ee24e3c434afa330b8c0408649b     Once upon a time, Jon wrote :\\n\\n\\n\\n> Since l...\n",
      "C:\\Users\\syed mubarak pasha\\OneDrive\\Documents\\Python\\Assignment\\Naive Bayes\\ham\\01447.98e4b20ceb192594e992f7db9f8dfc53     On Fri, Sep 06, 2002 at 06:22:52PM +0100, Matt...\n",
      "C:\\Users\\syed mubarak pasha\\OneDrive\\Documents\\Python\\Assignment\\Naive Bayes\\ham\\00128.0e92ec0c8bd8233f7e7873e93df43277     what takes time and money: noting the amounts ...\n",
      "C:\\Users\\syed mubarak pasha\\OneDrive\\Documents\\Python\\Assignment\\Naive Bayes\\spam\\00481.5c95b526e965fa325044123c4ce29c1f     =?GB2312?B?yNW12squ0ru97NbQufq5+rzKtefX08nosb...\n",
      "                                                                                                                                                  ...                        \n",
      "C:\\Users\\syed mubarak pasha\\OneDrive\\Documents\\Python\\Assignment\\Naive Bayes\\ham\\02281.0c788946658a7633490bd31043cc513e     URL: http://www.newsisfree.com/click/-5,855354...\n",
      "C:\\Users\\syed mubarak pasha\\OneDrive\\Documents\\Python\\Assignment\\Naive Bayes\\ham\\00423.cfe8ba459149d893789505dcac7db306     So, like many young children, my daughter Tatu...\n",
      "C:\\Users\\syed mubarak pasha\\OneDrive\\Documents\\Python\\Assignment\\Naive Bayes\\ham\\00614.2487f80400eb954b7c3ab257771ed393     Robert Harley writes:\\n\\n> Chuck Murcko wrote:...\n",
      "C:\\Users\\syed mubarak pasha\\OneDrive\\Documents\\Python\\Assignment\\Naive Bayes\\spam\\00236.2772a068fff32e2f8d7f8a94bd9280cd    Dear User,\\n\\n\\n\\nDo you ever wish you could e...\n",
      "C:\\Users\\syed mubarak pasha\\OneDrive\\Documents\\Python\\Assignment\\Naive Bayes\\ham\\00579.566d8e05220571bff1c2f392a1c7bf41     \\n\\n\\n\\nWhen we were discussing Kuhn, I wrote:...\n",
      "Name: message, Length: 2386, dtype: object C:\\Users\\syed mubarak pasha\\OneDrive\\Documents\\Python\\Assignment\\Naive Bayes\\ham\\00301.48ccf486575754a29b80e4eae2c5e227     0\n",
      "C:\\Users\\syed mubarak pasha\\OneDrive\\Documents\\Python\\Assignment\\Naive Bayes\\ham\\01302.06ac4ee24e3c434afa330b8c0408649b     0\n",
      "C:\\Users\\syed mubarak pasha\\OneDrive\\Documents\\Python\\Assignment\\Naive Bayes\\ham\\01447.98e4b20ceb192594e992f7db9f8dfc53     0\n",
      "C:\\Users\\syed mubarak pasha\\OneDrive\\Documents\\Python\\Assignment\\Naive Bayes\\ham\\00128.0e92ec0c8bd8233f7e7873e93df43277     0\n",
      "C:\\Users\\syed mubarak pasha\\OneDrive\\Documents\\Python\\Assignment\\Naive Bayes\\spam\\00481.5c95b526e965fa325044123c4ce29c1f    1\n",
      "                                                                                                                           ..\n",
      "C:\\Users\\syed mubarak pasha\\OneDrive\\Documents\\Python\\Assignment\\Naive Bayes\\ham\\02281.0c788946658a7633490bd31043cc513e     0\n",
      "C:\\Users\\syed mubarak pasha\\OneDrive\\Documents\\Python\\Assignment\\Naive Bayes\\ham\\00423.cfe8ba459149d893789505dcac7db306     0\n",
      "C:\\Users\\syed mubarak pasha\\OneDrive\\Documents\\Python\\Assignment\\Naive Bayes\\ham\\00614.2487f80400eb954b7c3ab257771ed393     0\n",
      "C:\\Users\\syed mubarak pasha\\OneDrive\\Documents\\Python\\Assignment\\Naive Bayes\\spam\\00236.2772a068fff32e2f8d7f8a94bd9280cd    1\n",
      "C:\\Users\\syed mubarak pasha\\OneDrive\\Documents\\Python\\Assignment\\Naive Bayes\\ham\\00579.566d8e05220571bff1c2f392a1c7bf41     0\n",
      "Name: class, Length: 2386, dtype: int64\n"
     ]
    }
   ],
   "source": [
    "print(x_train, y_train)"
   ]
  },
  {
   "cell_type": "code",
   "execution_count": 13,
   "id": "d579564b",
   "metadata": {},
   "outputs": [
    {
     "data": {
      "text/plain": [
       "MultinomialNB()"
      ]
     },
     "execution_count": 13,
     "metadata": {},
     "output_type": "execute_result"
    }
   ],
   "source": [
    "vectorizer = CountVectorizer()\n",
    "counts = vectorizer.fit_transform(x_train)\n",
    "\n",
    "classifier = MultinomialNB()\n",
    "targets = y_train\n",
    "classifier.fit(counts, targets)"
   ]
  },
  {
   "cell_type": "code",
   "execution_count": 14,
   "id": "f4c7e731",
   "metadata": {},
   "outputs": [
    {
     "data": {
      "text/plain": [
       "array([1, 0], dtype=int64)"
      ]
     },
     "execution_count": 14,
     "metadata": {},
     "output_type": "execute_result"
    }
   ],
   "source": [
    "examples = [\"$$DON'T WAIT!!! CALL NOW $$ 1-800-896-6568\", \"Hi Bob, how about a game of golf tomorrow?\"]\n",
    "example_counts = vectorizer.transform(examples)\n",
    "predictions = classifier.predict(example_counts)\n",
    "predictions"
   ]
  },
  {
   "cell_type": "code",
   "execution_count": 15,
   "id": "481e1642",
   "metadata": {
    "scrolled": true
   },
   "outputs": [
    {
     "data": {
      "text/plain": [
       "array([0, 0, 0, 0, 0, 0, 0, 0, 0, 0, 0, 0, 0, 0, 0, 0, 1, 0, 0, 0, 0, 0,\n",
       "       0, 1, 0, 0, 0, 0, 1, 1, 0, 0, 1, 0, 1, 0, 0, 0, 1, 0, 0, 0, 1, 0,\n",
       "       0, 1, 0, 0, 0, 1, 0, 0, 1, 0, 0, 0, 0, 0, 0, 0, 1, 0, 0, 1, 1, 1,\n",
       "       0, 0, 0, 0, 1, 0, 0, 0, 0, 0, 0, 1, 0, 0, 0, 0, 0, 0, 0, 1, 1, 0,\n",
       "       0, 0, 0, 0, 0, 0, 0, 0, 0, 0, 0, 0, 0, 0, 0, 0, 0, 0, 1, 0, 0, 1,\n",
       "       0, 0, 0, 0, 0, 0, 0, 0, 0, 0, 0, 0, 0, 0, 0, 0, 0, 0, 0, 1, 0, 0,\n",
       "       0, 0, 0, 1, 0, 0, 0, 0, 0, 0, 1, 0, 0, 1, 0, 0, 0, 0, 0, 0, 0, 0,\n",
       "       0, 0, 0, 0, 0, 0, 0, 0, 0, 0, 0, 1, 0, 1, 0, 0, 0, 1, 0, 0, 0, 0,\n",
       "       0, 1, 1, 0, 0, 0, 0, 1, 0, 1, 0, 0, 0, 0, 0, 0, 0, 1, 0, 0, 0, 1,\n",
       "       0, 0, 0, 0, 0, 0, 0, 0, 0, 1, 0, 0, 0, 0, 0, 0, 0, 0, 0, 0, 0, 0,\n",
       "       1, 0, 0, 1, 0, 0, 0, 0, 0, 0, 0, 0, 0, 0, 0, 0, 0, 0, 0, 1, 1, 0,\n",
       "       0, 0, 0, 0, 0, 0, 0, 0, 0, 0, 1, 0, 0, 0, 0, 0, 0, 0, 0, 0, 0, 0,\n",
       "       0, 0, 0, 0, 0, 0, 0, 0, 0, 0, 0, 0, 0, 0, 0, 1, 1, 1, 0, 0, 0, 0,\n",
       "       1, 0, 0, 0, 0, 0, 0, 1, 1, 0, 0, 0, 0, 0, 0, 0, 0, 1, 0, 0, 0, 1,\n",
       "       0, 0, 0, 1, 0, 0, 0, 0, 0, 0, 0, 0, 0, 0, 0, 0, 1, 0, 0, 0, 0, 0,\n",
       "       0, 0, 0, 0, 1, 0, 0, 0, 1, 0, 0, 0, 1, 0, 0, 0, 0, 0, 1, 0, 0, 0,\n",
       "       0, 0, 0, 0, 0, 0, 0, 0, 0, 0, 1, 0, 0, 0, 0, 0, 1, 0, 1, 0, 0, 0,\n",
       "       0, 0, 0, 0, 0, 0, 0, 0, 0, 1, 0, 0, 0, 0, 0, 0, 0, 0, 0, 0, 0, 0,\n",
       "       1, 0, 0, 1, 1, 0, 0, 0, 0, 0, 0, 0, 0, 1, 0, 0, 0, 0, 0, 1, 0, 0,\n",
       "       0, 0, 1, 0, 0, 0, 0, 0, 0, 0, 0, 1, 0, 0, 0, 1, 0, 0, 0, 0, 0, 0,\n",
       "       1, 0, 0, 1, 0, 0, 0, 1, 0, 0, 0, 0, 1, 0, 0, 0, 0, 1, 0, 0, 0, 1,\n",
       "       1, 0, 0, 0, 0, 0, 0, 0, 1, 1, 0, 0, 0, 1, 0, 0, 0, 0, 0, 0, 0, 1,\n",
       "       0, 0, 0, 0, 0, 0, 0, 0, 0, 0, 0, 0, 0, 0, 0, 0, 0, 0, 0, 0, 0, 0,\n",
       "       0, 0, 0, 1, 0, 0, 1, 0, 0, 0, 0, 0, 1, 0, 0, 0, 0, 0, 0, 0, 0, 0,\n",
       "       0, 0, 0, 0, 0, 0, 0, 0, 0, 0, 0, 0, 1, 0, 0, 0, 0, 0, 0, 0, 0, 0,\n",
       "       0, 0, 0, 0, 0, 0, 0, 1, 0, 0, 0, 0, 0, 0, 1, 0, 0, 0, 0, 0, 0, 0,\n",
       "       0, 0, 0, 0, 0, 0, 0, 1, 0, 1, 0, 0, 1, 0, 1, 0, 0, 0, 0, 1, 0, 0,\n",
       "       0, 0, 0], dtype=int64)"
      ]
     },
     "execution_count": 15,
     "metadata": {},
     "output_type": "execute_result"
    }
   ],
   "source": [
    "examples = x_test\n",
    "example_counts = vectorizer.transform(examples)\n",
    "predictions_1 = classifier.predict(example_counts)\n",
    "predictions_1"
   ]
  },
  {
   "cell_type": "code",
   "execution_count": 16,
   "id": "7fea677c",
   "metadata": {},
   "outputs": [
    {
     "name": "stdout",
     "output_type": "stream",
     "text": [
      "classifier accuracy 96.98%\n"
     ]
    }
   ],
   "source": [
    "features_test_transformed  = vectorizer.transform(x_test)\n",
    "print(\"classifier accuracy {:.2f}%\".format(classifier.score(features_test_transformed, y_test) * 100))"
   ]
  },
  {
   "cell_type": "code",
   "execution_count": null,
   "id": "d442fcbc",
   "metadata": {},
   "outputs": [],
   "source": []
  }
 ],
 "metadata": {
  "kernelspec": {
   "display_name": "Python 3 (ipykernel)",
   "language": "python",
   "name": "python3"
  },
  "language_info": {
   "codemirror_mode": {
    "name": "ipython",
    "version": 3
   },
   "file_extension": ".py",
   "mimetype": "text/x-python",
   "name": "python",
   "nbconvert_exporter": "python",
   "pygments_lexer": "ipython3",
   "version": "3.9.12"
  }
 },
 "nbformat": 4,
 "nbformat_minor": 5
}
